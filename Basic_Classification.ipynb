{
  "nbformat": 4,
  "nbformat_minor": 0,
  "metadata": {
    "colab": {
      "name": "Basic-Classification.ipynb",
      "provenance": [],
      "collapsed_sections": [],
      "authorship_tag": "ABX9TyNjVZAJVf6qXFrA7VTMsJ5v",
      "include_colab_link": true
    },
    "kernelspec": {
      "display_name": "Python 3",
      "name": "python3"
    },
    "language_info": {
      "name": "python"
    }
  },
  "cells": [
    {
      "cell_type": "markdown",
      "metadata": {
        "id": "view-in-github",
        "colab_type": "text"
      },
      "source": [
        "<a href=\"https://colab.research.google.com/github/tanwir1703/Object-Recognition/blob/main/Basic_Classification.ipynb\" target=\"_parent\"><img src=\"https://colab.research.google.com/assets/colab-badge.svg\" alt=\"Open In Colab\"/></a>"
      ]
    },
    {
      "cell_type": "code",
      "metadata": {
        "colab": {
          "base_uri": "https://localhost:8080/"
        },
        "id": "cRFT0TlqUJXh",
        "outputId": "ceb00c10-f767-42a2-ad8c-b7dab2d3f91e"
      },
      "source": [
        "#@title\n",
        "from keras.datasets import cifar10\n",
        "from keras.utils import np_utils\n",
        "from keras.models import Sequential\n",
        "from keras.layers.core import Dense, Dropout, Activation, Flatten\n",
        "from keras.optimizers import SGD, Adam, RMSprop\n",
        "from tensorflow.keras.layers import Conv2D, MaxPooling2D\n",
        "import matplotlib.pyplot as plt\n",
        "\n",
        "#CIFAR-10 is a set of 60000 images 32X32 pixels on 3 channels\n",
        "IMG_CHANNELS = 3\n",
        "IMG_ROWS = 32\n",
        "IMG_COLS = 32\n",
        "\n",
        "#constants\n",
        "BATCH_SIZE = 200\n",
        "NB_EPOCH = 20\n",
        "NB_CLASSES = 10\n",
        "VERBOSE = 1\n",
        "VALIDATION_SPLIT = 0.2\n",
        "OPTIM = RMSprop()\n",
        "\n",
        "#LOAD DATASET\n",
        "(X_train, y_train), (X_test, y_test) = cifar10.load_data()\n",
        "print('X_train shape: ', X_train.shape)\n",
        "print(X_train.shape[0], 'train samples')\n",
        "print(X_test.shape[0], 'test samples')"
      ],
      "execution_count": null,
      "outputs": [
        {
          "name": "stdout",
          "output_type": "stream",
          "text": [
            "Downloading data from https://www.cs.toronto.edu/~kriz/cifar-10-python.tar.gz\n",
            "170500096/170498071 [==============================] - 4s 0us/step\n",
            "170508288/170498071 [==============================] - 4s 0us/step\n",
            "X_train shape:  (50000, 32, 32, 3)\n",
            "50000 train samples\n",
            "10000 test samples\n"
          ]
        }
      ]
    },
    {
      "cell_type": "code",
      "metadata": {
        "id": "QY5plpHcXksn"
      },
      "source": [
        "Y_train = np_utils.to_categorical(y_train, NB_CLASSES)\n",
        "Y_test = np_utils.to_categorical(y_test, NB_CLASSES)            \n",
        "\n",
        "#normalization\n",
        "X_train = X_train.astype('float32')\n",
        "X_test = X_test.astype('float32')\n",
        "X_train/=255\n",
        "X_test/=255"
      ],
      "execution_count": null,
      "outputs": []
    },
    {
      "cell_type": "code",
      "metadata": {
        "id": "p75Kjt20eBw3"
      },
      "source": [
        "model = Sequential()\n",
        "model.add(Conv2D(32, (3, 3), padding='same', \n",
        "input_shape=(IMG_ROWS, IMG_COLS, IMG_CHANNELS)))\n",
        "model.add(Activation('relu'))\n",
        "model.add(MaxPooling2D(pool_size=(2,2)))\n",
        "model.add(Dropout(0.25))"
      ],
      "execution_count": null,
      "outputs": []
    },
    {
      "cell_type": "code",
      "metadata": {
        "id": "YwFbN66rf8Vf"
      },
      "source": [
        "model.add(Flatten())\n",
        "model.add(Dense(512))\n",
        "model.add(Activation('relu'))\n",
        "model.add(Dropout(0.5))\n",
        "model.add(Dense(NB_CLASSES))\n",
        "model.add(Activation('softmax'))"
      ],
      "execution_count": null,
      "outputs": []
    },
    {
      "cell_type": "code",
      "metadata": {
        "colab": {
          "background_save": true,
          "base_uri": "https://localhost:8080/"
        },
        "id": "cG7G-ii1qry0",
        "outputId": "30a4ca63-a436-42f8-9de2-2386cc843044"
      },
      "source": [
        "model.compile(loss='categorical_crossentropy', optimizer=OPTIM, metrics=['accuracy'])\n",
        "model.fit(X_train, Y_train, batch_size=BATCH_SIZE, \n",
        "epochs=NB_EPOCH, validation_split=VALIDATION_SPLIT,\n",
        "verbose=VERBOSE)\n",
        "score = model.evaluate(X_test, Y_test,\n",
        "batch_size=BATCH_SIZE, verbose=VERBOSE)\n",
        "print(\"Test score:\", score[0])\n",
        "print('Test accuracy:', score[1])"
      ],
      "execution_count": null,
      "outputs": [
        {
          "name": "stdout",
          "output_type": "stream",
          "text": [
            "Epoch 1/20\n",
            "200/200 [==============================] - 51s 12ms/step - loss: 2.3220 - accuracy: 0.2693 - val_loss: 1.5172 - val_accuracy: 0.4622\n",
            "Epoch 2/20\n",
            "200/200 [==============================] - 2s 9ms/step - loss: 1.4949 - accuracy: 0.4685 - val_loss: 1.3538 - val_accuracy: 0.5194\n",
            "Epoch 3/20\n",
            "200/200 [==============================] - 2s 9ms/step - loss: 1.3371 - accuracy: 0.5279 - val_loss: 1.1890 - val_accuracy: 0.5870\n",
            "Epoch 4/20\n",
            "200/200 [==============================] - 2s 10ms/step - loss: 1.2387 - accuracy: 0.5619 - val_loss: 1.2213 - val_accuracy: 0.5792\n",
            "Epoch 5/20\n",
            "200/200 [==============================] - 2s 10ms/step - loss: 1.1480 - accuracy: 0.5989 - val_loss: 1.1142 - val_accuracy: 0.6137\n",
            "Epoch 6/20\n",
            "200/200 [==============================] - 2s 9ms/step - loss: 1.0824 - accuracy: 0.6191 - val_loss: 1.0712 - val_accuracy: 0.6250\n",
            "Epoch 7/20\n",
            "200/200 [==============================] - 2s 10ms/step - loss: 1.0423 - accuracy: 0.6364 - val_loss: 1.0408 - val_accuracy: 0.6410\n",
            "Epoch 8/20\n",
            "200/200 [==============================] - 2s 9ms/step - loss: 0.9888 - accuracy: 0.6557 - val_loss: 1.0414 - val_accuracy: 0.6412\n",
            "Epoch 9/20\n",
            "200/200 [==============================] - 2s 9ms/step - loss: 0.9515 - accuracy: 0.6661 - val_loss: 1.0079 - val_accuracy: 0.6481\n",
            "Epoch 10/20\n",
            "200/200 [==============================] - 2s 9ms/step - loss: 0.9037 - accuracy: 0.6884 - val_loss: 0.9881 - val_accuracy: 0.6602\n",
            "Epoch 11/20\n",
            "200/200 [==============================] - 2s 9ms/step - loss: 0.8652 - accuracy: 0.6983 - val_loss: 0.9953 - val_accuracy: 0.6557\n",
            "Epoch 12/20\n",
            "200/200 [==============================] - 2s 9ms/step - loss: 0.8302 - accuracy: 0.7153 - val_loss: 1.0196 - val_accuracy: 0.6542\n",
            "Epoch 13/20\n",
            "200/200 [==============================] - 2s 10ms/step - loss: 0.8129 - accuracy: 0.7137 - val_loss: 0.9723 - val_accuracy: 0.6699\n",
            "Epoch 14/20\n",
            "200/200 [==============================] - 2s 10ms/step - loss: 0.7754 - accuracy: 0.7232 - val_loss: 0.9840 - val_accuracy: 0.6677\n",
            "Epoch 15/20\n",
            "200/200 [==============================] - 2s 9ms/step - loss: 0.7540 - accuracy: 0.7368 - val_loss: 1.0459 - val_accuracy: 0.6580\n",
            "Epoch 16/20\n",
            "200/200 [==============================] - 2s 9ms/step - loss: 0.7175 - accuracy: 0.7531 - val_loss: 0.9661 - val_accuracy: 0.6801\n",
            "Epoch 17/20\n",
            "200/200 [==============================] - 2s 9ms/step - loss: 0.7026 - accuracy: 0.7539 - val_loss: 0.9912 - val_accuracy: 0.6717\n",
            "Epoch 18/20\n",
            "200/200 [==============================] - 2s 9ms/step - loss: 0.6787 - accuracy: 0.7665 - val_loss: 1.0345 - val_accuracy: 0.6656\n",
            "Epoch 19/20\n",
            "200/200 [==============================] - 2s 10ms/step - loss: 0.6588 - accuracy: 0.7718 - val_loss: 0.9815 - val_accuracy: 0.6837\n",
            "Epoch 20/20\n",
            "200/200 [==============================] - 2s 10ms/step - loss: 0.6285 - accuracy: 0.7808 - val_loss: 0.9826 - val_accuracy: 0.6834\n",
            "50/50 [==============================] - 0s 3ms/step - loss: 0.9841 - accuracy: 0.6767\n",
            "Test score: 0.984144926071167\n",
            "Test accuracy: 0.6766999959945679\n"
          ]
        }
      ]
    }
  ]
}